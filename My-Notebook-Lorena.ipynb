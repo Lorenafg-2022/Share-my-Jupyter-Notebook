{
 "cells": [
  {
   "cell_type": "markdown",
   "id": "eacd8f03-1266-42b1-a3a9-9a48205789fb",
   "metadata": {},
   "source": [
    "# My Jupyter Notebook on IBM Watson Studio"
   ]
  },
  {
   "cell_type": "markdown",
   "id": "35460c12-e811-456f-8990-8fc59aeddf2f",
   "metadata": {},
   "source": [
    "**Fernández Lorena** "
   ]
  },
  {
   "cell_type": "markdown",
   "id": "9f3f0deb-9eaf-419a-bbd0-d68f707c2ea8",
   "metadata": {},
   "source": [
    "Ingeniera Pesquera"
   ]
  },
  {
   "cell_type": "markdown",
   "id": "783b2ee4-da18-4984-ba38-3f2f618d4566",
   "metadata": {},
   "source": [
    "*Estoy interesado en la ciencia de datos porque me gusta trabajar con bases de datos, hacer gráficos, sacar relaciones y conclusiones, poder obtener información útil de los datos para la toma de decisiones. Creo que la ciencia de datos aplicada es mejor manera de obtener respuestas ante futuros problemas.*"
   ]
  },
  {
   "cell_type": "markdown",
   "id": "0b61fd75-14cf-4ef2-9381-7c47daaca844",
   "metadata": {},
   "source": [
    "### En la siguiente celda se obtendra como resultado la suma de dos valores numérico:"
   ]
  },
  {
   "cell_type": "code",
   "execution_count": 1,
   "id": "2a4468bc-46e2-47f6-8e5d-c261204c4634",
   "metadata": {},
   "outputs": [
    {
     "data": {
      "text/plain": [
       "25614266210"
      ]
     },
     "execution_count": 1,
     "metadata": {},
     "output_type": "execute_result"
    }
   ],
   "source": [
    "25487759+25588778451"
   ]
  },
  {
   "cell_type": "markdown",
   "id": "776294cb-0884-457b-b474-c2594d6c6d0b",
   "metadata": {},
   "source": [
    "---\n",
    "* data analytics\n",
    "* data science\n",
    "* data scientist\n",
    "* big data\n",
    "\n",
    ">Aquí les dejo mi perfil de LinkedIn para que nos conozcamos!\n",
    "(https://www.linkedin.com/in/lorena-fernandez-916a33141/)"
   ]
  }
 ],
 "metadata": {
  "kernelspec": {
   "display_name": "Python",
   "language": "python",
   "name": "conda-env-python-py"
  },
  "language_info": {
   "codemirror_mode": {
    "name": "ipython",
    "version": 3
   },
   "file_extension": ".py",
   "mimetype": "text/x-python",
   "name": "python",
   "nbconvert_exporter": "python",
   "pygments_lexer": "ipython3",
   "version": "3.7.12"
  }
 },
 "nbformat": 4,
 "nbformat_minor": 5
}
